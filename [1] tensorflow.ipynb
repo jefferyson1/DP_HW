{
 "cells": [
  {
   "cell_type": "markdown",
   "id": "39cd2ff3",
   "metadata": {},
   "source": [
    "# 1. tensorflow lecture (ver 2.0)"
   ]
  },
  {
   "cell_type": "markdown",
   "id": "b0686dc6",
   "metadata": {},
   "source": [
    "- 딥러닝의 점유율 90% 이상 \n",
    "- 난이도가 높은 대신 속도가 더 빠름, 고로 산업계에서 주로 사용 \n",
    "- computing 자원이 한정적일 경우 훨씬 효율적임"
   ]
  },
  {
   "cell_type": "code",
   "execution_count": 23,
   "id": "9b95b513",
   "metadata": {},
   "outputs": [
    {
     "name": "stdout",
     "output_type": "stream",
     "text": [
      "3.141592653589793\n",
      "-0.5440211108893698\n",
      "3\n",
      "2\n",
      "3\n",
      "3.141592653589793\n",
      "3.141592653589793\n",
      "-0.5440211108893698\n"
     ]
    }
   ],
   "source": [
    "import math \n",
    "\n",
    "print(math.pi)\n",
    "print(math.sin(10))\n",
    "\n",
    "print(math.ceil(2.5)) # 올림 \n",
    "print(math.floor(2.5)) # 내림 \n",
    "print(round(2.6))#반올림 \n",
    "import math as m \n",
    "print(m.pi)\n",
    "\n",
    "from math import pi, sin \n",
    "print(pi)\n",
    "print(sin(10)) "
   ]
  },
  {
   "cell_type": "markdown",
   "id": "5344b8e1",
   "metadata": {},
   "source": [
    "### cf : 차원\n",
    "   - 0 : scalar [1] \n",
    "   - 1 : vector [1,1]\n",
    "   - 2 : matrix [[1,1],[1,1]]\n",
    "   - 3 : 3tensor[[[1,1],[1,1]],[[1,1],[1,1]]]\n",
    "   - n : N tensor "
   ]
  },
  {
   "cell_type": "markdown",
   "id": "c9ecb4af",
   "metadata": {},
   "source": [
    "### cf : back ground\n",
    "- floating point가 높을 수록 더 정확한 숫자 가능, 하지만 float64가 float32의 메모리 사용량 두 배 \n",
    "    - => 연산속도 감소 \n",
    "- 고로 float32를 사용하는게 딥러닝에서 더 좋음 (연산 속도가 더 빠르기 때문) "
   ]
  },
  {
   "cell_type": "code",
   "execution_count": 12,
   "id": "1bd54fe7",
   "metadata": {},
   "outputs": [
    {
     "name": "stdout",
     "output_type": "stream",
     "text": [
      "Requirement already satisfied: tensorflow in c:\\users\\hung2\\anaconda3\\lib\\site-packages (2.11.0)\n",
      "Requirement already satisfied: tensorflow-intel==2.11.0 in c:\\users\\hung2\\anaconda3\\lib\\site-packages (from tensorflow) (2.11.0)\n",
      "Requirement already satisfied: astunparse>=1.6.0 in c:\\users\\hung2\\anaconda3\\lib\\site-packages (from tensorflow-intel==2.11.0->tensorflow) (1.6.3)\n",
      "Requirement already satisfied: wrapt>=1.11.0 in c:\\users\\hung2\\anaconda3\\lib\\site-packages (from tensorflow-intel==2.11.0->tensorflow) (1.14.1)\n",
      "Requirement already satisfied: typing-extensions>=3.6.6 in c:\\users\\hung2\\anaconda3\\lib\\site-packages (from tensorflow-intel==2.11.0->tensorflow) (4.3.0)\n",
      "Requirement already satisfied: six>=1.12.0 in c:\\users\\hung2\\anaconda3\\lib\\site-packages (from tensorflow-intel==2.11.0->tensorflow) (1.16.0)\n",
      "Requirement already satisfied: tensorboard<2.12,>=2.11 in c:\\users\\hung2\\anaconda3\\lib\\site-packages (from tensorflow-intel==2.11.0->tensorflow) (2.11.0)\n",
      "Requirement already satisfied: tensorflow-io-gcs-filesystem>=0.23.1 in c:\\users\\hung2\\anaconda3\\lib\\site-packages (from tensorflow-intel==2.11.0->tensorflow) (0.27.0)\n",
      "Requirement already satisfied: libclang>=13.0.0 in c:\\users\\hung2\\anaconda3\\lib\\site-packages (from tensorflow-intel==2.11.0->tensorflow) (14.0.6)\n",
      "Requirement already satisfied: numpy>=1.20 in c:\\users\\hung2\\anaconda3\\lib\\site-packages (from tensorflow-intel==2.11.0->tensorflow) (1.21.5)\n",
      "Requirement already satisfied: flatbuffers>=2.0 in c:\\users\\hung2\\anaconda3\\lib\\site-packages (from tensorflow-intel==2.11.0->tensorflow) (22.10.26)\n",
      "Requirement already satisfied: tensorflow-estimator<2.12,>=2.11.0 in c:\\users\\hung2\\anaconda3\\lib\\site-packages (from tensorflow-intel==2.11.0->tensorflow) (2.11.0)\n",
      "Requirement already satisfied: google-pasta>=0.1.1 in c:\\users\\hung2\\anaconda3\\lib\\site-packages (from tensorflow-intel==2.11.0->tensorflow) (0.2.0)\n",
      "Requirement already satisfied: grpcio<2.0,>=1.24.3 in c:\\users\\hung2\\anaconda3\\lib\\site-packages (from tensorflow-intel==2.11.0->tensorflow) (1.50.0)\n",
      "Requirement already satisfied: gast<=0.4.0,>=0.2.1 in c:\\users\\hung2\\anaconda3\\lib\\site-packages (from tensorflow-intel==2.11.0->tensorflow) (0.4.0)\n",
      "Requirement already satisfied: keras<2.12,>=2.11.0 in c:\\users\\hung2\\anaconda3\\lib\\site-packages (from tensorflow-intel==2.11.0->tensorflow) (2.11.0)\n",
      "Requirement already satisfied: termcolor>=1.1.0 in c:\\users\\hung2\\anaconda3\\lib\\site-packages (from tensorflow-intel==2.11.0->tensorflow) (2.1.1)\n",
      "Requirement already satisfied: setuptools in c:\\users\\hung2\\anaconda3\\lib\\site-packages (from tensorflow-intel==2.11.0->tensorflow) (63.4.1)\n",
      "Requirement already satisfied: packaging in c:\\users\\hung2\\anaconda3\\lib\\site-packages (from tensorflow-intel==2.11.0->tensorflow) (21.3)\n",
      "Requirement already satisfied: absl-py>=1.0.0 in c:\\users\\hung2\\anaconda3\\lib\\site-packages (from tensorflow-intel==2.11.0->tensorflow) (1.3.0)\n",
      "Requirement already satisfied: h5py>=2.9.0 in c:\\users\\hung2\\anaconda3\\lib\\site-packages (from tensorflow-intel==2.11.0->tensorflow) (3.7.0)\n",
      "Requirement already satisfied: opt-einsum>=2.3.2 in c:\\users\\hung2\\anaconda3\\lib\\site-packages (from tensorflow-intel==2.11.0->tensorflow) (3.3.0)\n",
      "Requirement already satisfied: protobuf<3.20,>=3.9.2 in c:\\users\\hung2\\anaconda3\\lib\\site-packages (from tensorflow-intel==2.11.0->tensorflow) (3.19.6)\n",
      "Requirement already satisfied: wheel<1.0,>=0.23.0 in c:\\users\\hung2\\anaconda3\\lib\\site-packages (from astunparse>=1.6.0->tensorflow-intel==2.11.0->tensorflow) (0.37.1)\n",
      "Requirement already satisfied: google-auth-oauthlib<0.5,>=0.4.1 in c:\\users\\hung2\\anaconda3\\lib\\site-packages (from tensorboard<2.12,>=2.11->tensorflow-intel==2.11.0->tensorflow) (0.4.6)\n",
      "Requirement already satisfied: google-auth<3,>=1.6.3 in c:\\users\\hung2\\anaconda3\\lib\\site-packages (from tensorboard<2.12,>=2.11->tensorflow-intel==2.11.0->tensorflow) (2.14.1)\n",
      "Requirement already satisfied: requests<3,>=2.21.0 in c:\\users\\hung2\\anaconda3\\lib\\site-packages (from tensorboard<2.12,>=2.11->tensorflow-intel==2.11.0->tensorflow) (2.28.1)\n",
      "Requirement already satisfied: tensorboard-plugin-wit>=1.6.0 in c:\\users\\hung2\\anaconda3\\lib\\site-packages (from tensorboard<2.12,>=2.11->tensorflow-intel==2.11.0->tensorflow) (1.8.1)\n",
      "Requirement already satisfied: markdown>=2.6.8 in c:\\users\\hung2\\anaconda3\\lib\\site-packages (from tensorboard<2.12,>=2.11->tensorflow-intel==2.11.0->tensorflow) (3.3.4)\n",
      "Requirement already satisfied: tensorboard-data-server<0.7.0,>=0.6.0 in c:\\users\\hung2\\anaconda3\\lib\\site-packages (from tensorboard<2.12,>=2.11->tensorflow-intel==2.11.0->tensorflow) (0.6.1)\n",
      "Requirement already satisfied: werkzeug>=1.0.1 in c:\\users\\hung2\\anaconda3\\lib\\site-packages (from tensorboard<2.12,>=2.11->tensorflow-intel==2.11.0->tensorflow) (2.0.3)\n",
      "Requirement already satisfied: pyparsing!=3.0.5,>=2.0.2 in c:\\users\\hung2\\anaconda3\\lib\\site-packages (from packaging->tensorflow-intel==2.11.0->tensorflow) (3.0.9)\n",
      "Requirement already satisfied: rsa<5,>=3.1.4 in c:\\users\\hung2\\anaconda3\\lib\\site-packages (from google-auth<3,>=1.6.3->tensorboard<2.12,>=2.11->tensorflow-intel==2.11.0->tensorflow) (4.9)\n",
      "Requirement already satisfied: cachetools<6.0,>=2.0.0 in c:\\users\\hung2\\anaconda3\\lib\\site-packages (from google-auth<3,>=1.6.3->tensorboard<2.12,>=2.11->tensorflow-intel==2.11.0->tensorflow) (5.2.0)\n",
      "Requirement already satisfied: pyasn1-modules>=0.2.1 in c:\\users\\hung2\\anaconda3\\lib\\site-packages (from google-auth<3,>=1.6.3->tensorboard<2.12,>=2.11->tensorflow-intel==2.11.0->tensorflow) (0.2.8)\n",
      "Requirement already satisfied: requests-oauthlib>=0.7.0 in c:\\users\\hung2\\anaconda3\\lib\\site-packages (from google-auth-oauthlib<0.5,>=0.4.1->tensorboard<2.12,>=2.11->tensorflow-intel==2.11.0->tensorflow) (1.3.1)\n",
      "Requirement already satisfied: certifi>=2017.4.17 in c:\\users\\hung2\\anaconda3\\lib\\site-packages (from requests<3,>=2.21.0->tensorboard<2.12,>=2.11->tensorflow-intel==2.11.0->tensorflow) (2022.9.14)\n",
      "Requirement already satisfied: idna<4,>=2.5 in c:\\users\\hung2\\anaconda3\\lib\\site-packages (from requests<3,>=2.21.0->tensorboard<2.12,>=2.11->tensorflow-intel==2.11.0->tensorflow) (3.3)\n",
      "Requirement already satisfied: charset-normalizer<3,>=2 in c:\\users\\hung2\\anaconda3\\lib\\site-packages (from requests<3,>=2.21.0->tensorboard<2.12,>=2.11->tensorflow-intel==2.11.0->tensorflow) (2.0.4)\n",
      "Requirement already satisfied: urllib3<1.27,>=1.21.1 in c:\\users\\hung2\\anaconda3\\lib\\site-packages (from requests<3,>=2.21.0->tensorboard<2.12,>=2.11->tensorflow-intel==2.11.0->tensorflow) (1.26.11)\n",
      "Requirement already satisfied: pyasn1<0.5.0,>=0.4.6 in c:\\users\\hung2\\anaconda3\\lib\\site-packages (from pyasn1-modules>=0.2.1->google-auth<3,>=1.6.3->tensorboard<2.12,>=2.11->tensorflow-intel==2.11.0->tensorflow) (0.4.8)\n",
      "Requirement already satisfied: oauthlib>=3.0.0 in c:\\users\\hung2\\anaconda3\\lib\\site-packages (from requests-oauthlib>=0.7.0->google-auth-oauthlib<0.5,>=0.4.1->tensorboard<2.12,>=2.11->tensorflow-intel==2.11.0->tensorflow) (3.2.2)\n",
      "Note: you may need to restart the kernel to use updated packages.\n"
     ]
    }
   ],
   "source": [
    "pip install tensorflow"
   ]
  },
  {
   "cell_type": "code",
   "execution_count": 4,
   "id": "72c2c3cd",
   "metadata": {},
   "outputs": [
    {
     "name": "stdout",
     "output_type": "stream",
     "text": [
      "2.11.0\n"
     ]
    }
   ],
   "source": [
    "import numpy as np\n",
    "import tensorflow as tf\n",
    "print(tf.__version__)"
   ]
  },
  {
   "cell_type": "markdown",
   "id": "3fa61217",
   "metadata": {},
   "source": [
    "# 2. 텐서(Tensor)의 객체 \n",
    "\n",
    "- 타입(Type): string, float32, float16, int32, int8 등 \n",
    "- 형상(shape): 0,1,2차원 등의 데이터 차원\n",
    "- 축(rank): 차원의 개수 "
   ]
  },
  {
   "cell_type": "markdown",
   "id": "f294c12b",
   "metadata": {},
   "source": [
    "## 2.1 텐서 차원과 연산"
   ]
  },
  {
   "cell_type": "code",
   "execution_count": 11,
   "id": "d183d3e0",
   "metadata": {},
   "outputs": [
    {
     "name": "stdout",
     "output_type": "stream",
     "text": [
      "tf.Tensor(0, shape=(), dtype=int32)\n",
      "tf.Tensor(2, shape=(), dtype=int32)\n"
     ]
    }
   ],
   "source": [
    "a=tf.constant(2) \n",
    "print(tf.rank(a))\n",
    "print(a)\n",
    "#tensorflow에 2하나만 들어갔으므로 차원(rank)==0이고 값(print(a))==2 이다. "
   ]
  },
  {
   "cell_type": "code",
   "execution_count": 14,
   "id": "55154d09",
   "metadata": {},
   "outputs": [
    {
     "name": "stdout",
     "output_type": "stream",
     "text": [
      "tf.Tensor(1, shape=(), dtype=int32)\n",
      "tf.Tensor([2 3], shape=(2,), dtype=int32)\n"
     ]
    }
   ],
   "source": [
    "b=tf.constant([2,3])\n",
    "print(tf.rank(b))\n",
    "print(b)\n",
    "#tensorflow에 [2,3]의 vector가 들어감. rank==1, 값==[2,3] shape==(2,) <- 1차원 이므로 "
   ]
  },
  {
   "cell_type": "code",
   "execution_count": 5,
   "id": "6c8c4d97",
   "metadata": {},
   "outputs": [
    {
     "name": "stdout",
     "output_type": "stream",
     "text": [
      "tf.Tensor(2, shape=(), dtype=int32)\n",
      "tf.Tensor(\n",
      "[[2 3]\n",
      " [6 7]], shape=(2, 2), dtype=int32)\n"
     ]
    }
   ],
   "source": [
    "c=tf.constant([[2,3],[6,7]])\n",
    "print(tf.rank(c))\n",
    "print(c)\n",
    "#tensorflow에 [2,3]\\n[6,7]의 matrix가 들어감. rank==2, 값==[[2,3],[6,7]], shape==(2,2)"
   ]
  },
  {
   "cell_type": "markdown",
   "id": "7bdcd03c",
   "metadata": {},
   "source": [
    "### + tensorflow 에 숫자뿐만 아니라 문자도 사용 가능하다. "
   ]
  },
  {
   "cell_type": "code",
   "execution_count": 6,
   "id": "14f72705",
   "metadata": {},
   "outputs": [
    {
     "name": "stdout",
     "output_type": "stream",
     "text": [
      "tf.Tensor(1, shape=(), dtype=int32)\n",
      "tf.Tensor([b'hello'], shape=(1,), dtype=string)\n"
     ]
    }
   ],
   "source": [
    "d= tf.constant(['hello'])\n",
    "print(tf.rank(d))\n",
    "print(d)\n",
    "# dtype이 int32가 아닌 string임을 볼 수 있음 \n",
    "# string == vector로 나타남 (1차원 tensor)"
   ]
  },
  {
   "cell_type": "markdown",
   "id": "b8fcc642",
   "metadata": {},
   "source": [
    "## 2.2 난수 생성"
   ]
  },
  {
   "cell_type": "code",
   "execution_count": 11,
   "id": "612a1ae8",
   "metadata": {},
   "outputs": [
    {
     "name": "stdout",
     "output_type": "stream",
     "text": [
      "(1,)\n",
      "tf.Tensor([0.74167347], shape=(1,), dtype=float32)\n"
     ]
    }
   ],
   "source": [
    "rand1=tf.random.uniform([1],0,1) # 0과 1사이의 uniform distribution에서 shape이 [1]인 애를 sampling하겠다. \n",
    "print(rand1.shape)\n",
    "print(rand1) #dtype이 float이다. "
   ]
  },
  {
   "cell_type": "code",
   "execution_count": 10,
   "id": "9d417e81",
   "metadata": {},
   "outputs": [
    {
     "name": "stdout",
     "output_type": "stream",
     "text": [
      "(1, 2)\n",
      "tf.Tensor([[0.79073215 0.4686418 ]], shape=(1, 2), dtype=float32)\n"
     ]
    }
   ],
   "source": [
    "rand2=tf.random.normal([1,2],0,1) # 평균이 0, 표준편차가 1인 normal distribution에서 [1,2]의 vector를 가진 애를 sampling을 하겠다. \n",
    "print(rand2.shape)\n",
    "print(rand2)"
   ]
  },
  {
   "cell_type": "markdown",
   "id": "68b55428",
   "metadata": {},
   "source": [
    "# BG. 즉시 실행모드 (Eager Mode) 지원 \n",
    "- 즉시 실행모드를 통해 tensorflow를 python처럼 사용할 수 있음 \n",
    "- 1.x 버전에서는 '그래프'를 생성하고, 초기화 한 뒤에 세션을 통해 값을 흐르게 하는 작업을 진행해야함"
   ]
  },
  {
   "cell_type": "code",
   "execution_count": 12,
   "id": "e21c43b1",
   "metadata": {},
   "outputs": [],
   "source": [
    "a=tf.constant(3)\n",
    "b=tf.constant(2)"
   ]
  },
  {
   "cell_type": "code",
   "execution_count": 14,
   "id": "93c15490",
   "metadata": {},
   "outputs": [
    {
     "name": "stdout",
     "output_type": "stream",
     "text": [
      "tf.Tensor(5, shape=(), dtype=int32)\n",
      "tf.Tensor(5, shape=(), dtype=int32)\n"
     ]
    }
   ],
   "source": [
    "print(tf.add(a,b)) #tensor ver 1.0\n",
    "print(a+b) # tensor ver 2.0 , 훨씬 사람이 쓰기 편해짐"
   ]
  },
  {
   "cell_type": "code",
   "execution_count": 16,
   "id": "a7272a38",
   "metadata": {},
   "outputs": [
    {
     "name": "stdout",
     "output_type": "stream",
     "text": [
      "tf.Tensor(6, shape=(), dtype=int32)\n",
      "tf.Tensor(1, shape=(), dtype=int32)\n",
      "tf.Tensor(1, shape=(), dtype=int32)\n",
      "tf.Tensor(1.5, shape=(), dtype=float64)\n"
     ]
    }
   ],
   "source": [
    "print(a*b)\n",
    "print(a-b)\n",
    "print(a%b)\n",
    "print(a/b)"
   ]
  },
  {
   "cell_type": "markdown",
   "id": "4117fe77",
   "metadata": {},
   "source": [
    "# 3. tensorflow ↔ numpy 변환 \n",
    "- numpy()\n",
    "- tf.convet_to_tensor()"
   ]
  },
  {
   "cell_type": "markdown",
   "id": "440d75d4",
   "metadata": {},
   "source": [
    "### 3.1 tensorlfow → numpy 변환 "
   ]
  },
  {
   "cell_type": "code",
   "execution_count": 22,
   "id": "5f19dbdd",
   "metadata": {},
   "outputs": [
    {
     "name": "stdout",
     "output_type": "stream",
     "text": [
      "5\n",
      "<class 'numpy.int32'>\n"
     ]
    }
   ],
   "source": [
    "# 위에 a,b는 tensorflow 형태임 \n",
    "c=(a+b).numpy() \n",
    "print(c)\n",
    "print(type(c)) #type이 numpy로 바뀐 것임을 볼 수 있음 "
   ]
  },
  {
   "cell_type": "markdown",
   "id": "4927bb9b",
   "metadata": {},
   "source": [
    "### 3.2 numpy → tensorflow 변환 "
   ]
  },
  {
   "cell_type": "code",
   "execution_count": 20,
   "id": "de4e9a96",
   "metadata": {},
   "outputs": [
    {
     "name": "stdout",
     "output_type": "stream",
     "text": [
      "tf.Tensor(2.236068, shape=(), dtype=float32)\n",
      "<class 'tensorflow.python.framework.ops.EagerTensor'>\n"
     ]
    }
   ],
   "source": [
    "c_sqrt=np.sqrt(c,dtype=np.float32)\n",
    "c_tensor=tf.convert_to_tensor(c_sqrt)\n",
    "\n",
    "print(c_tensor)\n",
    "print(type(c_tensor))"
   ]
  },
  {
   "cell_type": "markdown",
   "id": "7ba131a1",
   "metadata": {},
   "source": [
    "# 4. tensorflow를 numpy 처럼 사용하기 \n",
    "- tensorflow를 numpy처럼 활용할 수 있다 "
   ]
  },
  {
   "cell_type": "code",
   "execution_count": 26,
   "id": "f969be93",
   "metadata": {},
   "outputs": [
    {
     "name": "stdout",
     "output_type": "stream",
     "text": [
      "(2, 3)\n",
      "<dtype: 'float32'>\n"
     ]
    }
   ],
   "source": [
    "t=tf.constant([[1.0,2.0,3.0],[4.0,5.0,6.0]])\n",
    "print(t.shape)\n",
    "print(t.dtype)"
   ]
  },
  {
   "cell_type": "code",
   "execution_count": 28,
   "id": "c4ff4b3b",
   "metadata": {},
   "outputs": [
    {
     "name": "stdout",
     "output_type": "stream",
     "text": [
      "tf.Tensor(\n",
      "[[2. 3.]\n",
      " [5. 6.]], shape=(2, 2), dtype=float32)\n"
     ]
    }
   ],
   "source": [
    "print(t[:,1:])\n",
    "#row는 모두 가져오고, col은 1행을 제외하고 가져와라"
   ]
  },
  {
   "cell_type": "code",
   "execution_count": 29,
   "id": "ed658a29",
   "metadata": {},
   "outputs": [
    {
     "data": {
      "text/plain": [
       "<tf.Tensor: shape=(2, 3), dtype=float32, numpy=\n",
       "array([[11., 12., 13.],\n",
       "       [14., 15., 16.]], dtype=float32)>"
      ]
     },
     "execution_count": 29,
     "metadata": {},
     "output_type": "execute_result"
    }
   ],
   "source": [
    "t+10\n",
    "#모든 원소에 10을 더함"
   ]
  },
  {
   "cell_type": "code",
   "execution_count": 30,
   "id": "1918fa01",
   "metadata": {},
   "outputs": [
    {
     "data": {
      "text/plain": [
       "<tf.Tensor: shape=(2, 3), dtype=float32, numpy=\n",
       "array([[ 1.,  4.,  9.],\n",
       "       [16., 25., 36.]], dtype=float32)>"
      ]
     },
     "execution_count": 30,
     "metadata": {},
     "output_type": "execute_result"
    }
   ],
   "source": [
    "tf.square(t)\n",
    "#모든 원소를 제곱해준다. "
   ]
  },
  {
   "cell_type": "code",
   "execution_count": 31,
   "id": "276228d8",
   "metadata": {},
   "outputs": [
    {
     "data": {
      "text/plain": [
       "<tf.Tensor: shape=(2, 2), dtype=float32, numpy=\n",
       "array([[14., 32.],\n",
       "       [32., 77.]], dtype=float32)>"
      ]
     },
     "execution_count": 31,
     "metadata": {},
     "output_type": "execute_result"
    }
   ],
   "source": [
    "t@tf.transpose(t)\n",
    "#tf.transpose == 열과 행을 바꾸는 것 \n",
    "#@가 matrix multification을 나타냄 "
   ]
  },
  {
   "cell_type": "markdown",
   "id": "beff4e3e",
   "metadata": {},
   "source": [
    "# 5. 타입 변환\n",
    "- tensor의 기본 dtype\n",
    "    - float형 tensor: float32\n",
    "    - int형 tensor: int32\n",
    "- 연산시 tensor의 type을 맞춰야 함 \n",
    "    - float 32 ~ float 32\n",
    "    - int 32 ~ int 32 \n",
    "    - float 32 ~ int 32 <- 알맞지 않은 예 \n",
    "- 타입변환에는 tf.cast() 사용 "
   ]
  },
  {
   "cell_type": "code",
   "execution_count": 32,
   "id": "aa9890ea",
   "metadata": {},
   "outputs": [
    {
     "name": "stdout",
     "output_type": "stream",
     "text": [
      "tf.Tensor(2, shape=(), dtype=int32)\n",
      "tf.Tensor(2.0, shape=(), dtype=float32)\n"
     ]
    }
   ],
   "source": [
    "a=tf.constant(2)\n",
    "print(a)\n",
    "b=tf.constant(2.)\n",
    "print(b)"
   ]
  },
  {
   "cell_type": "code",
   "execution_count": 34,
   "id": "ff14eb73",
   "metadata": {},
   "outputs": [
    {
     "ename": "InvalidArgumentError",
     "evalue": "cannot compute AddV2 as input #1(zero-based) was expected to be a int32 tensor but is a float tensor [Op:AddV2]",
     "output_type": "error",
     "traceback": [
      "\u001b[1;31m---------------------------------------------------------------------------\u001b[0m",
      "\u001b[1;31mInvalidArgumentError\u001b[0m                      Traceback (most recent call last)",
      "\u001b[1;32m~\\AppData\\Local\\Temp\\ipykernel_23764\\743307475.py\u001b[0m in \u001b[0;36m<module>\u001b[1;34m\u001b[0m\n\u001b[1;32m----> 1\u001b[1;33m \u001b[0ma\u001b[0m\u001b[1;33m+\u001b[0m\u001b[0mb\u001b[0m\u001b[1;33m\u001b[0m\u001b[1;33m\u001b[0m\u001b[0m\n\u001b[0m\u001b[0;32m      2\u001b[0m \u001b[1;31m# data type이 일치하지 않으므로 error가 발생한다.\u001b[0m\u001b[1;33m\u001b[0m\u001b[1;33m\u001b[0m\u001b[0m\n",
      "\u001b[1;32m~\\anaconda3\\lib\\site-packages\\tensorflow\\python\\util\\traceback_utils.py\u001b[0m in \u001b[0;36merror_handler\u001b[1;34m(*args, **kwargs)\u001b[0m\n\u001b[0;32m    151\u001b[0m     \u001b[1;32mexcept\u001b[0m \u001b[0mException\u001b[0m \u001b[1;32mas\u001b[0m \u001b[0me\u001b[0m\u001b[1;33m:\u001b[0m\u001b[1;33m\u001b[0m\u001b[1;33m\u001b[0m\u001b[0m\n\u001b[0;32m    152\u001b[0m       \u001b[0mfiltered_tb\u001b[0m \u001b[1;33m=\u001b[0m \u001b[0m_process_traceback_frames\u001b[0m\u001b[1;33m(\u001b[0m\u001b[0me\u001b[0m\u001b[1;33m.\u001b[0m\u001b[0m__traceback__\u001b[0m\u001b[1;33m)\u001b[0m\u001b[1;33m\u001b[0m\u001b[1;33m\u001b[0m\u001b[0m\n\u001b[1;32m--> 153\u001b[1;33m       \u001b[1;32mraise\u001b[0m \u001b[0me\u001b[0m\u001b[1;33m.\u001b[0m\u001b[0mwith_traceback\u001b[0m\u001b[1;33m(\u001b[0m\u001b[0mfiltered_tb\u001b[0m\u001b[1;33m)\u001b[0m \u001b[1;32mfrom\u001b[0m \u001b[1;32mNone\u001b[0m\u001b[1;33m\u001b[0m\u001b[1;33m\u001b[0m\u001b[0m\n\u001b[0m\u001b[0;32m    154\u001b[0m     \u001b[1;32mfinally\u001b[0m\u001b[1;33m:\u001b[0m\u001b[1;33m\u001b[0m\u001b[1;33m\u001b[0m\u001b[0m\n\u001b[0;32m    155\u001b[0m       \u001b[1;32mdel\u001b[0m \u001b[0mfiltered_tb\u001b[0m\u001b[1;33m\u001b[0m\u001b[1;33m\u001b[0m\u001b[0m\n",
      "\u001b[1;32m~\\anaconda3\\lib\\site-packages\\tensorflow\\python\\framework\\ops.py\u001b[0m in \u001b[0;36mraise_from_not_ok_status\u001b[1;34m(e, name)\u001b[0m\n\u001b[0;32m   7213\u001b[0m \u001b[1;32mdef\u001b[0m \u001b[0mraise_from_not_ok_status\u001b[0m\u001b[1;33m(\u001b[0m\u001b[0me\u001b[0m\u001b[1;33m,\u001b[0m \u001b[0mname\u001b[0m\u001b[1;33m)\u001b[0m\u001b[1;33m:\u001b[0m\u001b[1;33m\u001b[0m\u001b[1;33m\u001b[0m\u001b[0m\n\u001b[0;32m   7214\u001b[0m   \u001b[0me\u001b[0m\u001b[1;33m.\u001b[0m\u001b[0mmessage\u001b[0m \u001b[1;33m+=\u001b[0m \u001b[1;33m(\u001b[0m\u001b[1;34m\" name: \"\u001b[0m \u001b[1;33m+\u001b[0m \u001b[0mname\u001b[0m \u001b[1;32mif\u001b[0m \u001b[0mname\u001b[0m \u001b[1;32mis\u001b[0m \u001b[1;32mnot\u001b[0m \u001b[1;32mNone\u001b[0m \u001b[1;32melse\u001b[0m \u001b[1;34m\"\"\u001b[0m\u001b[1;33m)\u001b[0m\u001b[1;33m\u001b[0m\u001b[1;33m\u001b[0m\u001b[0m\n\u001b[1;32m-> 7215\u001b[1;33m   \u001b[1;32mraise\u001b[0m \u001b[0mcore\u001b[0m\u001b[1;33m.\u001b[0m\u001b[0m_status_to_exception\u001b[0m\u001b[1;33m(\u001b[0m\u001b[0me\u001b[0m\u001b[1;33m)\u001b[0m \u001b[1;32mfrom\u001b[0m \u001b[1;32mNone\u001b[0m  \u001b[1;31m# pylint: disable=protected-access\u001b[0m\u001b[1;33m\u001b[0m\u001b[1;33m\u001b[0m\u001b[0m\n\u001b[0m\u001b[0;32m   7216\u001b[0m \u001b[1;33m\u001b[0m\u001b[0m\n\u001b[0;32m   7217\u001b[0m \u001b[1;33m\u001b[0m\u001b[0m\n",
      "\u001b[1;31mInvalidArgumentError\u001b[0m: cannot compute AddV2 as input #1(zero-based) was expected to be a int32 tensor but is a float tensor [Op:AddV2]"
     ]
    }
   ],
   "source": [
    "a+b\n",
    "# data type이 일치하지 않으므로 error가 발생한다. "
   ]
  },
  {
   "cell_type": "code",
   "execution_count": 35,
   "id": "7bdce29a",
   "metadata": {},
   "outputs": [
    {
     "ename": "InvalidArgumentError",
     "evalue": "cannot compute AddV2 as input #1(zero-based) was expected to be a float tensor but is a double tensor [Op:AddV2]",
     "output_type": "error",
     "traceback": [
      "\u001b[1;31m---------------------------------------------------------------------------\u001b[0m",
      "\u001b[1;31mInvalidArgumentError\u001b[0m                      Traceback (most recent call last)",
      "\u001b[1;32m~\\AppData\\Local\\Temp\\ipykernel_23764\\2214226676.py\u001b[0m in \u001b[0;36m<module>\u001b[1;34m\u001b[0m\n\u001b[1;32m----> 1\u001b[1;33m \u001b[0mtf\u001b[0m\u001b[1;33m.\u001b[0m\u001b[0mconstant\u001b[0m\u001b[1;33m(\u001b[0m\u001b[1;36m2.\u001b[0m\u001b[1;33m)\u001b[0m\u001b[1;33m+\u001b[0m\u001b[0mtf\u001b[0m\u001b[1;33m.\u001b[0m\u001b[0mconstant\u001b[0m\u001b[1;33m(\u001b[0m\u001b[1;36m2.\u001b[0m\u001b[1;33m,\u001b[0m\u001b[0mdtype\u001b[0m\u001b[1;33m=\u001b[0m\u001b[0mtf\u001b[0m\u001b[1;33m.\u001b[0m\u001b[0mfloat64\u001b[0m\u001b[1;33m)\u001b[0m\u001b[1;33m\u001b[0m\u001b[1;33m\u001b[0m\u001b[0m\n\u001b[0m",
      "\u001b[1;32m~\\anaconda3\\lib\\site-packages\\tensorflow\\python\\util\\traceback_utils.py\u001b[0m in \u001b[0;36merror_handler\u001b[1;34m(*args, **kwargs)\u001b[0m\n\u001b[0;32m    151\u001b[0m     \u001b[1;32mexcept\u001b[0m \u001b[0mException\u001b[0m \u001b[1;32mas\u001b[0m \u001b[0me\u001b[0m\u001b[1;33m:\u001b[0m\u001b[1;33m\u001b[0m\u001b[1;33m\u001b[0m\u001b[0m\n\u001b[0;32m    152\u001b[0m       \u001b[0mfiltered_tb\u001b[0m \u001b[1;33m=\u001b[0m \u001b[0m_process_traceback_frames\u001b[0m\u001b[1;33m(\u001b[0m\u001b[0me\u001b[0m\u001b[1;33m.\u001b[0m\u001b[0m__traceback__\u001b[0m\u001b[1;33m)\u001b[0m\u001b[1;33m\u001b[0m\u001b[1;33m\u001b[0m\u001b[0m\n\u001b[1;32m--> 153\u001b[1;33m       \u001b[1;32mraise\u001b[0m \u001b[0me\u001b[0m\u001b[1;33m.\u001b[0m\u001b[0mwith_traceback\u001b[0m\u001b[1;33m(\u001b[0m\u001b[0mfiltered_tb\u001b[0m\u001b[1;33m)\u001b[0m \u001b[1;32mfrom\u001b[0m \u001b[1;32mNone\u001b[0m\u001b[1;33m\u001b[0m\u001b[1;33m\u001b[0m\u001b[0m\n\u001b[0m\u001b[0;32m    154\u001b[0m     \u001b[1;32mfinally\u001b[0m\u001b[1;33m:\u001b[0m\u001b[1;33m\u001b[0m\u001b[1;33m\u001b[0m\u001b[0m\n\u001b[0;32m    155\u001b[0m       \u001b[1;32mdel\u001b[0m \u001b[0mfiltered_tb\u001b[0m\u001b[1;33m\u001b[0m\u001b[1;33m\u001b[0m\u001b[0m\n",
      "\u001b[1;32m~\\anaconda3\\lib\\site-packages\\tensorflow\\python\\framework\\ops.py\u001b[0m in \u001b[0;36mraise_from_not_ok_status\u001b[1;34m(e, name)\u001b[0m\n\u001b[0;32m   7213\u001b[0m \u001b[1;32mdef\u001b[0m \u001b[0mraise_from_not_ok_status\u001b[0m\u001b[1;33m(\u001b[0m\u001b[0me\u001b[0m\u001b[1;33m,\u001b[0m \u001b[0mname\u001b[0m\u001b[1;33m)\u001b[0m\u001b[1;33m:\u001b[0m\u001b[1;33m\u001b[0m\u001b[1;33m\u001b[0m\u001b[0m\n\u001b[0;32m   7214\u001b[0m   \u001b[0me\u001b[0m\u001b[1;33m.\u001b[0m\u001b[0mmessage\u001b[0m \u001b[1;33m+=\u001b[0m \u001b[1;33m(\u001b[0m\u001b[1;34m\" name: \"\u001b[0m \u001b[1;33m+\u001b[0m \u001b[0mname\u001b[0m \u001b[1;32mif\u001b[0m \u001b[0mname\u001b[0m \u001b[1;32mis\u001b[0m \u001b[1;32mnot\u001b[0m \u001b[1;32mNone\u001b[0m \u001b[1;32melse\u001b[0m \u001b[1;34m\"\"\u001b[0m\u001b[1;33m)\u001b[0m\u001b[1;33m\u001b[0m\u001b[1;33m\u001b[0m\u001b[0m\n\u001b[1;32m-> 7215\u001b[1;33m   \u001b[1;32mraise\u001b[0m \u001b[0mcore\u001b[0m\u001b[1;33m.\u001b[0m\u001b[0m_status_to_exception\u001b[0m\u001b[1;33m(\u001b[0m\u001b[0me\u001b[0m\u001b[1;33m)\u001b[0m \u001b[1;32mfrom\u001b[0m \u001b[1;32mNone\u001b[0m  \u001b[1;31m# pylint: disable=protected-access\u001b[0m\u001b[1;33m\u001b[0m\u001b[1;33m\u001b[0m\u001b[0m\n\u001b[0m\u001b[0;32m   7216\u001b[0m \u001b[1;33m\u001b[0m\u001b[0m\n\u001b[0;32m   7217\u001b[0m \u001b[1;33m\u001b[0m\u001b[0m\n",
      "\u001b[1;31mInvalidArgumentError\u001b[0m: cannot compute AddV2 as input #1(zero-based) was expected to be a float tensor but is a double tensor [Op:AddV2]"
     ]
    }
   ],
   "source": [
    "tf.constant(2.)+tf.constant(2.,dtype=tf.float64)\n",
    "#dtype관점에서는 float 32 != float 64"
   ]
  },
  {
   "cell_type": "code",
   "execution_count": 38,
   "id": "9bcf008a",
   "metadata": {},
   "outputs": [
    {
     "name": "stdout",
     "output_type": "stream",
     "text": [
      "tf.Tensor(4.0, shape=(), dtype=float64)\n",
      "<class 'tensorflow.python.framework.ops.EagerTensor'>\n"
     ]
    }
   ],
   "source": [
    "t=tf.constant(2.,dtype=tf.float64)\n",
    "t2=tf.constant(2.)\n",
    "a=tf.cast(t2, tf.float64) #tf.cast()를 사용함으로써 float32 → float64로 변환 \n",
    "t3=t+a\n",
    "print(t3)\n",
    "print(type(t3))"
   ]
  },
  {
   "cell_type": "code",
   "execution_count": 40,
   "id": "ccb1437a",
   "metadata": {},
   "outputs": [
    {
     "name": "stdout",
     "output_type": "stream",
     "text": [
      "tf.Tensor(4, shape=(), dtype=int32)\n",
      "<class 'tensorflow.python.framework.ops.EagerTensor'>\n"
     ]
    }
   ],
   "source": [
    "t=tf.constant(2,) #정수, int32\n",
    "t1=tf.constant(2.) #실수, float32 \n",
    "t2=tf.cast(t1,tf.int32) # float32 → int32 \n",
    "a=t2+t\n",
    "print(a)\n",
    "print(type(a))"
   ]
  },
  {
   "cell_type": "code",
   "execution_count": 42,
   "id": "1b7ab38b",
   "metadata": {},
   "outputs": [
    {
     "name": "stdout",
     "output_type": "stream",
     "text": [
      "tf.Tensor(4.0, shape=(), dtype=float32)\n",
      "<class 'tensorflow.python.framework.ops.EagerTensor'>\n"
     ]
    }
   ],
   "source": [
    "t=tf.constant(2,) #정수, int32\n",
    "t1=tf.constant(2.) #실수, float32 \n",
    "t2=tf.cast(t,tf.float32) #int32 → float32\n",
    "a=t2+t1\n",
    "print(a)\n",
    "print(type(a)) "
   ]
  },
  {
   "cell_type": "markdown",
   "id": "819cdf88",
   "metadata": {},
   "source": [
    "# 6. AutoGraph (오토그래프) \n",
    "### 이건 ver1.0 얘기임으로 단순 cf\n",
    "- tensorflow가 작업을 좀 더 빠르게 동작하기 위한 방법으로 Graph을 만들어 연산을 진행\n",
    "- tf.Graph\n",
    "- 유연성이 있음\n",
    "    - 모바일 어플리케이션, 임베디드 기기, 백엔드 서버와 같이 python 인터프리터가 없는 환경에서 tensorflow 사용 가능"
   ]
  },
  {
   "cell_type": "code",
   "execution_count": 43,
   "id": "133a957e",
   "metadata": {},
   "outputs": [],
   "source": [
    "import timeit"
   ]
  },
  {
   "cell_type": "markdown",
   "id": "534ded8a",
   "metadata": {},
   "source": [
    "## 6-1. @tf.function\n",
    "- 자동으로 그래프를 생성 (auto graph)\n",
    "- 그래프로 변환하여 사용 -> GPU 연산 가능 \n",
    "- 파이썬으로 구성된 함수를 tensorflow의 그래프 형태로 다루고 싶을 때 사용 가능 \n",
    "- 원본 함수가 필요하다면 (tf.function).python_function()\n",
    "- python에 함수정의 def funcion(x): 위에 @tf.function을 써주면 그 자체가 tensorflow의 함수가 된다."
   ]
  },
  {
   "cell_type": "code",
   "execution_count": 46,
   "id": "62cb7be3",
   "metadata": {},
   "outputs": [
    {
     "name": "stdout",
     "output_type": "stream",
     "text": [
      "tf.Tensor(-13, shape=(), dtype=int32)\n",
      "tf.Tensor(-13, shape=(), dtype=int32)\n"
     ]
    }
   ],
   "source": [
    "@tf.function\n",
    "def my_function(x):\n",
    "    return x**2-10*x+3\n",
    "\n",
    "print(my_function(2))\n",
    "print(my_function(tf.constant(2)))\n",
    "#input값을 tensor로 넣던, int로 넣던지간에 dtype==tensor이고, 값 또한 같은 output이 산출됨을 알 수 있다. "
   ]
  },
  {
   "cell_type": "code",
   "execution_count": 50,
   "id": "d9d9c8cb",
   "metadata": {},
   "outputs": [
    {
     "name": "stdout",
     "output_type": "stream",
     "text": [
      "-13\n",
      "tf.Tensor(-13, shape=(), dtype=int32)\n"
     ]
    }
   ],
   "source": [
    "def my_func(x):\n",
    "    return x**2-10*x+3\n",
    "\n",
    "print(my_func(2))\n",
    "print(my_func(tf.constant(2)))\n",
    "#보통의 경우, 이와 같이 int로 넣으면 int로 출력 + tensor로 넣으면 tensor로 출력"
   ]
  },
  {
   "cell_type": "markdown",
   "id": "e5282e54",
   "metadata": {},
   "source": [
    "# 7.  Autograd (자동미분)\n",
    "- 'tf.GradientTape' API를 사용 \n",
    "- tf.Variable 같은 일부 입력에 대한 기울기 계산 \n",
    "    - 기본적으로 한번만 사용됨\n",
    "- 변수가 포함된 연산만 기록 "
   ]
  },
  {
   "cell_type": "code",
   "execution_count": 51,
   "id": "9a270ec6",
   "metadata": {},
   "outputs": [],
   "source": [
    "#x와 y의 선언방법 \n",
    "x=tf.Variable(3.)\n",
    "with tf.GradientTape() as tape:\n",
    "    y=x**2"
   ]
  },
  {
   "cell_type": "code",
   "execution_count": 52,
   "id": "79c21617",
   "metadata": {},
   "outputs": [
    {
     "name": "stdout",
     "output_type": "stream",
     "text": [
      "<class 'tensorflow.python.ops.resource_variable_ops.ResourceVariable'>\n",
      "<class 'tensorflow.python.framework.ops.EagerTensor'>\n"
     ]
    }
   ],
   "source": [
    "print(type(x))\n",
    "print(type(y))"
   ]
  },
  {
   "cell_type": "code",
   "execution_count": 53,
   "id": "f7ba7058",
   "metadata": {},
   "outputs": [
    {
     "data": {
      "text/plain": [
       "6.0"
      ]
     },
     "execution_count": 53,
     "metadata": {},
     "output_type": "execute_result"
    }
   ],
   "source": [
    "dy_dx=tape.gradient(y,x) #y를 x로 미분 (미분의대상,미분도구)\n",
    "dy_dx.numpy()"
   ]
  },
  {
   "cell_type": "code",
   "execution_count": 54,
   "id": "e6a8cf40",
   "metadata": {},
   "outputs": [
    {
     "ename": "RuntimeError",
     "evalue": "A non-persistent GradientTape can only be used to compute one set of gradients (or jacobians)",
     "output_type": "error",
     "traceback": [
      "\u001b[1;31m---------------------------------------------------------------------------\u001b[0m",
      "\u001b[1;31mRuntimeError\u001b[0m                              Traceback (most recent call last)",
      "\u001b[1;32m~\\AppData\\Local\\Temp\\ipykernel_23764\\3381258292.py\u001b[0m in \u001b[0;36m<module>\u001b[1;34m\u001b[0m\n\u001b[0;32m      1\u001b[0m \u001b[0mx2\u001b[0m\u001b[1;33m=\u001b[0m\u001b[0mtf\u001b[0m\u001b[1;33m.\u001b[0m\u001b[0mVariable\u001b[0m\u001b[1;33m(\u001b[0m\u001b[1;36m4\u001b[0m\u001b[1;33m)\u001b[0m\u001b[1;33m\u001b[0m\u001b[1;33m\u001b[0m\u001b[0m\n\u001b[1;32m----> 2\u001b[1;33m \u001b[0mdy_dx\u001b[0m\u001b[1;33m=\u001b[0m\u001b[0mtape\u001b[0m\u001b[1;33m.\u001b[0m\u001b[0mgradient\u001b[0m\u001b[1;33m(\u001b[0m\u001b[0my\u001b[0m\u001b[1;33m,\u001b[0m\u001b[0mx2\u001b[0m\u001b[1;33m)\u001b[0m\u001b[1;33m\u001b[0m\u001b[1;33m\u001b[0m\u001b[0m\n\u001b[0m\u001b[0;32m      3\u001b[0m \u001b[0mdy_dx\u001b[0m\u001b[1;33m.\u001b[0m\u001b[0mnumpy\u001b[0m\u001b[1;33m(\u001b[0m\u001b[1;33m)\u001b[0m\u001b[1;33m\u001b[0m\u001b[1;33m\u001b[0m\u001b[0m\n",
      "\u001b[1;32m~\\anaconda3\\lib\\site-packages\\tensorflow\\python\\eager\\backprop.py\u001b[0m in \u001b[0;36mgradient\u001b[1;34m(self, target, sources, output_gradients, unconnected_gradients)\u001b[0m\n\u001b[0;32m   1050\u001b[0m     \"\"\"\n\u001b[0;32m   1051\u001b[0m     \u001b[1;32mif\u001b[0m \u001b[0mself\u001b[0m\u001b[1;33m.\u001b[0m\u001b[0m_tape\u001b[0m \u001b[1;32mis\u001b[0m \u001b[1;32mNone\u001b[0m\u001b[1;33m:\u001b[0m\u001b[1;33m\u001b[0m\u001b[1;33m\u001b[0m\u001b[0m\n\u001b[1;32m-> 1052\u001b[1;33m       raise RuntimeError(\"A non-persistent GradientTape can only be used to \"\n\u001b[0m\u001b[0;32m   1053\u001b[0m                          \"compute one set of gradients (or jacobians)\")\n\u001b[0;32m   1054\u001b[0m     \u001b[1;32mif\u001b[0m \u001b[0mself\u001b[0m\u001b[1;33m.\u001b[0m\u001b[0m_recording\u001b[0m\u001b[1;33m:\u001b[0m\u001b[1;33m\u001b[0m\u001b[1;33m\u001b[0m\u001b[0m\n",
      "\u001b[1;31mRuntimeError\u001b[0m: A non-persistent GradientTape can only be used to compute one set of gradients (or jacobians)"
     ]
    }
   ],
   "source": [
    "x2=tf.Variable(4)\n",
    "dy_dx=tape.gradient(y,x2) #tape.gradient()함수에는 이미 다른 값이 들어가 있으므로 error 발생 \n",
    "dy_dx.numpy()\n",
    "\n",
    "#새롭게 또 gradient를 사용하고 싶다면 with tf.GradientTape() as 00 를 사용하여 새로 만들어야 한다. "
   ]
  },
  {
   "cell_type": "code",
   "execution_count": 58,
   "id": "3d7b6ed0",
   "metadata": {},
   "outputs": [],
   "source": [
    "x=tf.Variable(2.)\n",
    "y=tf.Variable(3.)\n",
    "with tf.GradientTape() as tape_1:\n",
    "    y_sq=y**2\n",
    "    z=x**2+tf.stop_gradient(y_sq) #중간에 있는식(y_sq처럼)을 가지고 올 때는 앞에 tf.stop_gradient() 를 사용함 "
   ]
  },
  {
   "cell_type": "code",
   "execution_count": 59,
   "id": "c5e02d3c",
   "metadata": {},
   "outputs": [
    {
     "name": "stdout",
     "output_type": "stream",
     "text": [
      "dz/dx:  tf.Tensor(4.0, shape=(), dtype=float32)\n",
      "dz/dy:  None\n"
     ]
    }
   ],
   "source": [
    "grad=tape_1.gradient(z,{'x':x, 'y':y}) #목적이 되는 함수 , 도구들 \n",
    "print('dz/dx: ',grad['x'])\n",
    "print('dz/dy: ',grad['y'])"
   ]
  },
  {
   "cell_type": "code",
   "execution_count": 60,
   "id": "1a3c5f04",
   "metadata": {},
   "outputs": [],
   "source": [
    "#Deeplearning에서의 대중적인 목표: weight, biases의 최적화\n",
    "weights=tf.Variable(tf.random.normal((3,2)), name=\"weights\")\n",
    "biases=tf.Variable(tf.zeros(2, dtype=tf.float32), name=\"biases\")\n",
    "\n",
    "x=[[1.,2.,3.]] #x는 보통 input, 1% 2% 3% 여기선 느낌  \n",
    "\n",
    "with tf.GradientTape(persistent=True) as tape_2:\n",
    "    y=x@weights+biases\n",
    "    loss=tf.reduce_mean(y**2)"
   ]
  },
  {
   "cell_type": "code",
   "execution_count": 61,
   "id": "571af6b0",
   "metadata": {},
   "outputs": [],
   "source": [
    "[dl_dw, dl_db]=tape_2.gradient(loss, [weights, biases])"
   ]
  },
  {
   "cell_type": "code",
   "execution_count": 64,
   "id": "acdb85b7",
   "metadata": {},
   "outputs": [
    {
     "name": "stdout",
     "output_type": "stream",
     "text": [
      "(3, 2)\n",
      "(3, 2)\n",
      "<tf.Variable 'weights:0' shape=(3, 2) dtype=float32, numpy=\n",
      "array([[-0.7125989 ,  1.828609  ],\n",
      "       [ 0.00339561,  1.0412098 ],\n",
      "       [-1.4075394 ,  0.5019637 ]], dtype=float32)>\n",
      "tf.Tensor(\n",
      "[[ -4.928426    5.4169197]\n",
      " [ -9.856852   10.833839 ]\n",
      " [-14.785277   16.25076  ]], shape=(3, 2), dtype=float32)\n"
     ]
    }
   ],
   "source": [
    "print(weights.shape)\n",
    "print(dl_dw.shape)\n",
    "print(weights)\n",
    "print(dl_dw) # 보통 이거 두개를 구한다 라고 mind set "
   ]
  },
  {
   "cell_type": "code",
   "execution_count": 65,
   "id": "1ee5ee98",
   "metadata": {},
   "outputs": [
    {
     "name": "stdout",
     "output_type": "stream",
     "text": [
      "(3, 2)\n",
      "(3, 2)\n",
      "<tf.Variable 'weights:0' shape=(3, 2) dtype=float32, numpy=\n",
      "array([[-3.3774583 ,  2.244045  ],\n",
      "       [-0.35360655,  0.56721073],\n",
      "       [-0.49939013,  1.0329618 ]], dtype=float32)>\n",
      "tf.Tensor(\n",
      "[[ -4.928426    5.4169197]\n",
      " [ -9.856852   10.833839 ]\n",
      " [-14.785277   16.25076  ]], shape=(3, 2), dtype=float32)\n"
     ]
    }
   ],
   "source": [
    "weights2=tf.Variable(tf.random.normal((3,2)),name=\"weights\")\n",
    "biases2=tf.Variable(tf.zeros(2, dtype=tf.float32), name=\"biases\")\n",
    "\n",
    "x2=[[4.,5.,6.]]\n",
    "\n",
    "print(weights2.shape)\n",
    "print(dl_dw.shape)\n",
    "print(weights2)\n",
    "print(dl_dw)"
   ]
  },
  {
   "cell_type": "code",
   "execution_count": null,
   "id": "282824cc",
   "metadata": {},
   "outputs": [],
   "source": []
  }
 ],
 "metadata": {
  "kernelspec": {
   "display_name": "Python 3 (ipykernel)",
   "language": "python",
   "name": "python3"
  },
  "language_info": {
   "codemirror_mode": {
    "name": "ipython",
    "version": 3
   },
   "file_extension": ".py",
   "mimetype": "text/x-python",
   "name": "python",
   "nbconvert_exporter": "python",
   "pygments_lexer": "ipython3",
   "version": "3.9.13"
  }
 },
 "nbformat": 4,
 "nbformat_minor": 5
}
